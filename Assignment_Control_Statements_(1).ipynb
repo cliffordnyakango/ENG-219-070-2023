{
  "cells": [
    {
      "cell_type": "markdown",
      "metadata": {
        "id": "view-in-github",
        "colab_type": "text"
      },
      "source": [
        "<a href=\"https://colab.research.google.com/github/cliffordnyakango/ENG-219-070-2023/blob/main/Assignment_Control_Statements_(1).ipynb\" target=\"_parent\"><img src=\"https://colab.research.google.com/assets/colab-badge.svg\" alt=\"Open In Colab\"/></a>"
      ]
    },
    {
      "cell_type": "markdown",
      "metadata": {
        "id": "DoHBGO7RNWyd"
      },
      "source": [
        "## Exercise 02.1 (if-else)\n",
        "\n",
        "Consider the following assessment criteria which map a score out of 100 to an\n",
        "assessment grade:\n",
        "\n",
        "| Grade            | Raw score  (/100)      |\n",
        "| ---------------- | ---------------------- |\n",
        "| Excellent        | $\\ge 85$               |\n",
        "| Very good        | $\\ge 76.5$ and $< 85$  |\n",
        "| Good             | $\\ge 64$ and $< 76.5$  |\n",
        "| Need improvement | $\\ge 40$ and $< 64$    |\n",
        "| Did you try?     | $< 40$                 |\n",
        "\n",
        "Write a program that, given an a score, prints the appropriate grade. Print an error message if the input score is greater than 100 or less than zero."
      ]
    },
    {
      "cell_type": "code",
      "execution_count": null,
      "metadata": {
        "colab": {
          "base_uri": "https://localhost:8080/"
        },
        "id": "4Dpv1Ep5NWyg",
        "outputId": "a81ff4b3-bfb2-465f-c146-dda52cb839e3"
      },
      "outputs": [
        {
          "name": "stdout",
          "output_type": "stream",
          "text": [
            "Grade: need improvement\n"
          ]
        }
      ],
      "source": [
        "def assign_grade(score):\n",
        "    if score > 100 or score < 0:\n",
        "        return \"error\"\n",
        "    elif score >= 85:\n",
        "        return \"excellent\"\n",
        "    elif score > 76.5:\n",
        "        return \"good\"\n",
        "    elif score >= 40:\n",
        "        return \"need improvement\"\n",
        "    else:\n",
        "        return \"did you try?\"\n",
        "\n",
        "# Score from user\n",
        "score = 72\n",
        "print(\"Grade:\", assign_grade(score))"
      ]
    },
    {
      "cell_type": "markdown",
      "metadata": {
        "id": "qGF-xbCDNWyi"
      },
      "source": [
        "## Exercise 02.2 (bisection)\n",
        "\n",
        "Bisection is an iterative method for finding approximate roots of a function. Say we know that the function $f(x)$ has one root between $x_{0}$ and $x_{1}$ ($x_{0} < x_{1}$). We then:\n",
        "\n",
        "- Evaluate $f$ at the midpoint $x_{\\rm mid} = (x_0 + x_1)/2$, i.e. compute\n",
        "   $f_{\\rm mid} = f(x_{\\rm mid})$\n",
        "- Evaluate $f(x_0) \\cdot f(x_{\\rm mid})$\n",
        "\n",
        "  - if $f(x_0) \\cdot f(x_{\\rm mid}) < 0$:\n",
        "\n",
        "    $f$ must change sign somewhere between $x_0$ and $x_{\\rm mid}$, hence the root must lie between\n",
        "    $x_0$ and $x_{\\rm mid}$, so set $x_1 = x_{\\rm mid}$.\n",
        "   \n",
        "  - else:\n",
        "\n",
        "    $f$ must change sign somewhere between $x_{\\rm mid}$ and $x_1$, so set\n",
        "    $x_0 = x_{\\rm mid}$.\n",
        "\n",
        "The above steps can be repeated a specified number of times, or until $|f_{\\rm mid}|$\n",
        "is below a tolerance, with $x_{\\rm mid}$ being the approximate root.\n",
        "\n",
        "\n",
        "### Task\n",
        "\n",
        "The function\n",
        "\n",
        "$$\n",
        "f(x) = \\frac{x^{5}}{10} + x^3 - 10x^2 + 4x + 7\n",
        "$$\n",
        "\n",
        "\n",
        "has one root in the range $0 < x < 2$.\n",
        "\n",
        "1. Use the bisection method to find an approximate root $x_{r}$ using 20 iterations\n",
        "   (use a `for` loop).\n",
        "2. Use the bisection method to find an approximate root $x_{r}$ such that\n",
        "   $\\left| f(x_{r}) \\right| < 1 \\times 10^{-6}$ and report the number of iterations\n",
        "   required (use a `while` loop).\n",
        "\n",
        "Store the approximate root using the variable `x_mid`, and store $f(x_{\\rm mid})$ using the variable `f`.\n",
        "\n",
        "*Hint:* Use  `abs` to compute the absolute value of a number, e.g. `y = abs(x)` assigns the absolute value of `x` to `y`."
      ]
    },
    {
      "cell_type": "markdown",
      "metadata": {
        "id": "5nHPrqQENWyi"
      },
      "source": [
        "#### (1) Using a `for` loop."
      ]
    },
    {
      "cell_type": "code",
      "execution_count": 3,
      "metadata": {
        "colab": {
          "base_uri": "https://localhost:8080/"
        },
        "id": "D4Q9HZmfNWyi",
        "outputId": "b2e7aef9-994b-4a95-8c71-d28f7cf9a3be"
      },
      "outputs": [
        {
          "output_type": "stream",
          "name": "stdout",
          "text": [
            "After 20 iterations: x_mid = 1.156836, f(x_mid) = -0.000001\n",
            "Root found with tolerance 1e-6: x_mid = 1.156835, f(x_mid) = 0.000000, iterations = 24\n"
          ]
        }
      ],
      "source": [
        "# Define the function f(x)\n",
        "def f(x):\n",
        "    return (x**5) / 10 + x**3 - 10 * x**2 + 4 * x + 7\n",
        "\n",
        "# 1. Bisection method with a fixed number of iterations\n",
        "def bisection_fixed_iterations(x0, x1, iterations=20):\n",
        "    for _ in range(iterations):\n",
        "        x_mid = (x0 + x1) / 2\n",
        "        f_mid = f(x_mid)\n",
        "\n",
        "        # Update interval based on the sign of f(x0) and f(x_mid)\n",
        "        if f(x0) * f_mid < 0:\n",
        "            x1 = x_mid\n",
        "        else:\n",
        "            x0 = x_mid\n",
        "    return x_mid, f_mid\n",
        "\n",
        "# 2. Bisection method with a tolerance criterion\n",
        "def bisection_with_tolerance(x0, x1, tolerance=1e-6):\n",
        "    iterations = 0\n",
        "    while True:\n",
        "        x_mid = (x0 + x1) / 2\n",
        "        f_mid = f(x_mid)\n",
        "        iterations += 1\n",
        "\n",
        "        # Stop if the function value at x_mid is within tolerance\n",
        "        if abs(f_mid) < tolerance:\n",
        "            break\n",
        "\n",
        "        # Update interval based on the sign of f(x0) and f(x_mid)\n",
        "        if f(x0) * f_mid < 0:\n",
        "            x1 = x_mid\n",
        "        else:\n",
        "            x0 = x_mid\n",
        "    return x_mid, f_mid, iterations\n",
        "\n",
        "# Set the initial interval\n",
        "x0 = 0.0\n",
        "x1 = 2.0\n",
        "\n",
        "# 1. Finding the root using a fixed number of iterations\n",
        "x_mid_fixed, f_fixed = bisection_fixed_iterations(x0, x1)\n",
        "print(f\"After 20 iterations: x_mid = {x_mid_fixed:.6f}, f(x_mid) = {f_fixed:.6f}\")\n",
        "\n",
        "# 2. Finding the root using a tolerance criterion\n",
        "x_mid_tol, f_tol, iterations_tol = bisection_with_tolerance(x0, x1)\n",
        "print(f\"Root found with tolerance 1e-6: x_mid = {x_mid_tol:.6f}, f(x_mid) = {f_tol:.6f}, iterations = {iterations_tol}\")"
      ]
    },
    {
      "cell_type": "code",
      "execution_count": null,
      "metadata": {
        "id": "Aud31k6dNWyj"
      },
      "outputs": [],
      "source": [
        "## tests ##\n",
        "import math\n",
        "assert math.isclose(x_mid, 1.1568355560302734)\n",
        "assert abs(f) < 1e-5"
      ]
    },
    {
      "cell_type": "markdown",
      "metadata": {
        "id": "YhWCVhvINWyj"
      },
      "source": [
        "#### (2) Using a `while` loop\n",
        "\n",
        "Use the variable `counter` for the iteration number.\n",
        "\n",
        "*Remember to guard against infinite loops.*"
      ]
    },
    {
      "cell_type": "code",
      "execution_count": 4,
      "metadata": {
        "id": "8H5dj4QYNWyj",
        "colab": {
          "base_uri": "https://localhost:8080/"
        },
        "outputId": "d30822dc-29d5-4921-d73e-118a73a63539"
      },
      "outputs": [
        {
          "output_type": "stream",
          "name": "stdout",
          "text": [
            "After 20 iterations: x_mid = 1.999998, f(x_mid) = 14.999893\n",
            "Maximum iterations reached. Exiting to prevent infinite loop.\n",
            "Root found with tolerance 1e-6: x_mid = 2.000000, f(x_mid) = 15.000000, iterations = 1000\n"
          ]
        }
      ],
      "source": [
        "# Define the function f(x)\n",
        "def f(x):\n",
        "    return x**5 + x**3 - 10*x**2 + 4*x + 7\n",
        "\n",
        "# 1. Bisection method with a fixed number of iterations\n",
        "def bisection_fixed_iterations(x0, x1, iterations=20):\n",
        "    for _ in range(iterations):\n",
        "        x_mid = (x0 + x1) / 2\n",
        "        f_mid = f(x_mid)\n",
        "\n",
        "        # Update interval based on the sign of f(x0) and f(x_mid)\n",
        "        if f(x0) * f_mid < 0:\n",
        "            x1 = x_mid\n",
        "        else:\n",
        "            x0 = x_mid\n",
        "    return x_mid, f_mid\n",
        "\n",
        "# 2. Bisection method with a tolerance criterion and maximum iteration guard\n",
        "def bisection_with_tolerance(x0, x1, tolerance=1e-6, max_iterations=1000):\n",
        "    iterations = 0\n",
        "    while True:\n",
        "        x_mid = (x0 + x1) / 2\n",
        "        f_mid = f(x_mid)\n",
        "        iterations += 1\n",
        "\n",
        "        # Stop if the function value at x_mid is within tolerance\n",
        "        if abs(f_mid) < tolerance:\n",
        "            break\n",
        "\n",
        "        # Update interval based on the sign of f(x0) and f(x_mid)\n",
        "        if f(x0) * f_mid < 0:\n",
        "            x1 = x_mid\n",
        "        else:\n",
        "            x0 = x_mid\n",
        "\n",
        "        # Guard against infinite loops\n",
        "        if iterations >= max_iterations:\n",
        "            print(\"Maximum iterations reached. Exiting to prevent infinite loop.\")\n",
        "            break\n",
        "\n",
        "    return x_mid, f_mid, iterations\n",
        "\n",
        "# Set the initial interval\n",
        "x0 = 0.0\n",
        "x1 = 2.0\n",
        "\n",
        "# 1. Finding the root using a fixed number of iterations\n",
        "x_mid_fixed, f_fixed = bisection_fixed_iterations(x0, x1)\n",
        "print(f\"After 20 iterations: x_mid = {x_mid_fixed:.6f}, f(x_mid) = {f_fixed:.6f}\")\n",
        "\n",
        "# 2. Finding the root using a tolerance criterion\n",
        "x_mid_tol, f_tol, iterations_tol = bisection_with_tolerance(x0, x1)\n",
        "print(f\"Root found with tolerance 1e-6: x_mid = {x_mid_tol:.6f}, f(x_mid) = {f_tol:.6f}, iterations = {iterations_tol}\")"
      ]
    },
    {
      "cell_type": "markdown",
      "metadata": {
        "id": "HIlQc4FJNWyk"
      },
      "source": [
        "## Exercise 02.3 (series expansion)\n",
        "\n",
        "For $|x| < 1$ the series:\n",
        "\n",
        "$$\n",
        "(1 + x)^{-1/2} = \\sum_{n = 0}^{\\infty} \\frac{(-1)^n (2n)!}{4^n (n!)^2} x^n\n",
        "$$\n",
        "\n",
        "converges.\n",
        "\n",
        "1. Using a `for` statement, approximate $1/\\sqrt{0.16}$ using 30 terms in the series expansion and report the absolute error.\n",
        "\n",
        "1. Using a `while` statement, compute how many terms in the series are required to approximate $1/\\sqrt{0.16}$ to within $1 \\times 10^{-5}$.\n",
        "\n",
        "Store the absolute value of the error in the variable `error`.\n",
        "\n",
        "### Hints\n",
        "\n",
        "To compute the factorial, use the Python `math` module:\n",
        "```python\n",
        "import math\n",
        "nfact = math.factorial(10)\n",
        "```\n",
        "You only need `import math` once at the top of your program. Standard modules, like `math`, will be explained in a later\n",
        "\n",
        "<!-- The power series expansion for the sine function is:\n",
        "\n",
        "$$\n",
        "\\sin(x) = \\sum_{n = 0}^{\\infty} (-1)^n \\frac{x^{2n +1}}{(2n+1)!}\n",
        "$$\n",
        "\n",
        "(See mathematics data book for a less compact version; this compact version is preferred here as it is simpler to program.)\n",
        "\n",
        "1. Using a `for` statement, approximate $\\sin(3\\pi/2)$ using 15 terms in the series expansion and report the absolute error.\n",
        "\n",
        "1. Using a `while` statement, compute how many terms in the series are required to approximate $\\sin(3\\pi/2)$ to within $1 \\times 10^{-8}$.\n",
        "\n",
        "Store the absolute value of the error in the variable `error`.\n",
        "\n",
        "*Note:* Calculators and computers use iterative or series expansions to compute trigonometric functions, similar to the one above (although they use more efficient formulations than the above series).\n",
        "\n",
        "### Hints\n",
        "\n",
        "To compute the factorial and to get a good approximation of $\\pi$, use the Python `math` module:\n",
        "```python\n",
        "import math\n",
        "nfact = math.factorial(10)\n",
        "pi = math.pi\n",
        "```\n",
        "You only need '`import math`' once at the top of your program. Standard modules, like `math`, will be explained in a later. If you want to test for angles for which sine is not simple, you can use\n",
        "```python\n",
        "a = 1.3\n",
        "s = math.sin(a)\n",
        "```    \n",
        "to get an accurate computation of sine to check the error. -->"
      ]
    },
    {
      "cell_type": "markdown",
      "metadata": {
        "id": "LEQimS1LNWyk"
      },
      "source": [
        "#### (1) Using a `for` loop"
      ]
    },
    {
      "cell_type": "code",
      "execution_count": 6,
      "metadata": {
        "id": "VuyxLhMCNWyk",
        "colab": {
          "base_uri": "https://localhost:8080/"
        },
        "outputId": "6dc270c2-643a-45c8-e156-a28a17ea3619"
      },
      "outputs": [
        {
          "output_type": "stream",
          "name": "stdout",
          "text": [
            "The approximated function value is:\n",
            "0.4347606399999999\n",
            "The error is:\n",
            "0.2747606399999999\n"
          ]
        }
      ],
      "source": [
        "# Import the math module to access math.factorial\n",
        "import math\n",
        "\n",
        "# Value of x (such that (1 + x) = 0.16)\n",
        "x = -0.84\n",
        "\n",
        "# Number of terms in the approximation (you can adjust this as needed)\n",
        "num_terms = 5\n",
        "\n",
        "# Initialize approximation of the function\n",
        "approx_f = 0.0\n",
        "\n",
        "# Compute the approximation using a Taylor series or similar\n",
        "for n in range(num_terms):\n",
        "    approx_f += ((x**n) / math.factorial(n))\n",
        "\n",
        "# Compute the actual value of the function (if available) for error calculation\n",
        "actual_value = 0.16  # Replace with the true function value, if known\n",
        "\n",
        "# Calculate the error\n",
        "error = abs(actual_value - approx_f)\n",
        "\n",
        "# Print the results\n",
        "print(\"The approximated function value is:\")\n",
        "print(approx_f)\n",
        "\n",
        "print(\"The error is:\")\n",
        "print(error)"
      ]
    },
    {
      "cell_type": "code",
      "execution_count": null,
      "metadata": {
        "id": "heUrD66iNWyl"
      },
      "outputs": [],
      "source": [
        "## test ##\n",
        "assert error < 1.0e-2"
      ]
    },
    {
      "cell_type": "markdown",
      "metadata": {
        "id": "TPjAqO24NWyl"
      },
      "source": [
        "#### (2) Using a `while` loop\n",
        "\n",
        "*Remember to guard against infinite loops.*"
      ]
    },
    {
      "cell_type": "code",
      "execution_count": 7,
      "metadata": {
        "id": "f94WVO2TNWyl",
        "colab": {
          "base_uri": "https://localhost:8080/"
        },
        "outputId": "be70662a-26be-4099-b621-31c9de4921e4"
      },
      "outputs": [
        {
          "output_type": "stream",
          "name": "stdout",
          "text": [
            "\n",
            "The approximated function value is: 2.3163663508402887\n",
            "The error is: 6.147715553279998e-06\n",
            "Number of terms in series: 9\n"
          ]
        }
      ],
      "source": [
        "# Import the math module to access math.sin and math.factorial\n",
        "import math\n",
        "\n",
        "# Value of x (such that (1 - x) = 0.16)\n",
        "x = -0.84\n",
        "\n",
        "# Tolerance and initial error (this just needs to be larger than tol)\n",
        "tol = 1.0e-5\n",
        "error = tol + 1.0\n",
        "\n",
        "# Initialise approximation of the function\n",
        "approx_f = 0.0\n",
        "\n",
        "# Initialise counter\n",
        "n = 0\n",
        "\n",
        "# Loop until error satisfies tolerance, with a check to avoid infinite loop\n",
        "while error > tol and n < 1000:\n",
        "    # Compute term of the series\n",
        "    term = ((-1)**n) * (x**n) / math.factorial(n)\n",
        "\n",
        "    # Add the term to the approximation\n",
        "    approx_f += term\n",
        "\n",
        "    # Calculate error (absolute value of the term)\n",
        "    error = abs(term)\n",
        "\n",
        "    # Increment counter\n",
        "    n += 1\n",
        "\n",
        "print(\"\\nThe approximated function value is:\", approx_f)\n",
        "print(\"The error is:\", error)\n",
        "print(\"Number of terms in series:\", n)"
      ]
    },
    {
      "cell_type": "code",
      "execution_count": null,
      "metadata": {
        "id": "sMVDt0J0NWyl"
      },
      "outputs": [],
      "source": [
        "## test ##\n",
        "assert error <= 1.0e-5"
      ]
    }
  ],
  "metadata": {
    "celltoolbar": "Create Assignment",
    "colab": {
      "provenance": [],
      "include_colab_link": true
    },
    "kernelspec": {
      "display_name": "Python 3 (ipykernel)",
      "language": "python",
      "name": "python3"
    },
    "language_info": {
      "codemirror_mode": {
        "name": "ipython",
        "version": 3
      },
      "file_extension": ".py",
      "mimetype": "text/x-python",
      "name": "python",
      "nbconvert_exporter": "python",
      "pygments_lexer": "ipython3",
      "version": "3.10.6"
    },
    "otter": {
      "OK_FORMAT": true,
      "assignment_name": "Exercises 2",
      "tests": {}
    }
  },
  "nbformat": 4,
  "nbformat_minor": 0
}