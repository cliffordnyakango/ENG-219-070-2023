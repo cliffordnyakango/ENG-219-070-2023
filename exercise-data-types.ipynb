{
 "cells": [
  {
   "cell_type": "markdown",
   "id": "77a43c4d",
   "metadata": {
    "papermill": {
     "duration": 0.006125,
     "end_time": "2025-02-25T20:49:23.399244",
     "exception": false,
     "start_time": "2025-02-25T20:49:23.393119",
     "status": "completed"
    },
    "tags": []
   },
   "source": [
    "**This notebook is an exercise in the [Intro to Programming](https://www.kaggle.com/learn/intro-to-programming) course.  You can reference the tutorial at [this link](https://www.kaggle.com/alexisbcook/data-types).**\n",
    "\n",
    "---\n"
   ]
  },
  {
   "cell_type": "markdown",
   "id": "85d53ffd",
   "metadata": {
    "papermill": {
     "duration": 0.00499,
     "end_time": "2025-02-25T20:49:23.409647",
     "exception": false,
     "start_time": "2025-02-25T20:49:23.404657",
     "status": "completed"
    },
    "tags": []
   },
   "source": [
    "In the tutorial, you learned about four different data types: floats, integers, strings, and booleans.  In this exercise, you'll experiment with them.\n",
    "\n",
    "# Set up the notebook\n",
    "\n",
    "Run the next code cell without changes to set up the notebook."
   ]
  },
  {
   "cell_type": "code",
   "execution_count": 1,
   "id": "3383af02",
   "metadata": {
    "execution": {
     "iopub.execute_input": "2025-02-25T20:49:23.421086Z",
     "iopub.status.busy": "2025-02-25T20:49:23.420754Z",
     "iopub.status.idle": "2025-02-25T20:49:24.399077Z",
     "shell.execute_reply": "2025-02-25T20:49:24.397664Z"
    },
    "papermill": {
     "duration": 0.98622,
     "end_time": "2025-02-25T20:49:24.400993",
     "exception": false,
     "start_time": "2025-02-25T20:49:23.414773",
     "status": "completed"
    },
    "tags": []
   },
   "outputs": [
    {
     "name": "stdout",
     "output_type": "stream",
     "text": [
      "Setup complete.\n"
     ]
    }
   ],
   "source": [
    "# Set up the exercise\n",
    "from learntools.core import binder\n",
    "binder.bind(globals())\n",
    "from learntools.intro_to_programming.ex3 import *\n",
    "print('Setup complete.')"
   ]
  },
  {
   "cell_type": "markdown",
   "id": "5656e334",
   "metadata": {
    "papermill": {
     "duration": 0.005152,
     "end_time": "2025-02-25T20:49:24.411849",
     "exception": false,
     "start_time": "2025-02-25T20:49:24.406697",
     "status": "completed"
    },
    "tags": []
   },
   "source": [
    "# Question 1\n",
    "\n",
    "You have seen how to convert a float to an integer with the `int` function.  Try this out yourself by running the code cell below."
   ]
  },
  {
   "cell_type": "code",
   "execution_count": 2,
   "id": "1896341d",
   "metadata": {
    "execution": {
     "iopub.execute_input": "2025-02-25T20:49:24.424672Z",
     "iopub.status.busy": "2025-02-25T20:49:24.424120Z",
     "iopub.status.idle": "2025-02-25T20:49:24.430882Z",
     "shell.execute_reply": "2025-02-25T20:49:24.429238Z"
    },
    "papermill": {
     "duration": 0.015517,
     "end_time": "2025-02-25T20:49:24.432673",
     "exception": false,
     "start_time": "2025-02-25T20:49:24.417156",
     "status": "completed"
    },
    "tags": []
   },
   "outputs": [
    {
     "name": "stdout",
     "output_type": "stream",
     "text": [
      "1.0\n",
      "<class 'float'>\n",
      "1\n",
      "<class 'int'>\n"
     ]
    }
   ],
   "source": [
    "# Define a float\n",
    "y = 1.\n",
    "print(y)\n",
    "print(type(y))\n",
    "\n",
    "# Convert float to integer with the int function\n",
    "z = int(y)\n",
    "print(z)\n",
    "print(type(z))"
   ]
  },
  {
   "cell_type": "markdown",
   "id": "0076b199",
   "metadata": {
    "papermill": {
     "duration": 0.005064,
     "end_time": "2025-02-25T20:49:24.443322",
     "exception": false,
     "start_time": "2025-02-25T20:49:24.438258",
     "status": "completed"
    },
    "tags": []
   },
   "source": [
    "In this case, the float you are using has no numbers after the decimal.  \n",
    "- But what happens when you try to convert a float with a fractional part to an integer?  \n",
    "- How does the outcome of the `int` function change for positive and negative numbers?\n",
    "\n",
    "Use the next code cell to investigate and answer these questions.  Feel free to add or remove any lines of code -- it is your workspace!"
   ]
  },
  {
   "cell_type": "code",
   "execution_count": 3,
   "id": "065b03d8",
   "metadata": {
    "execution": {
     "iopub.execute_input": "2025-02-25T20:49:24.456366Z",
     "iopub.status.busy": "2025-02-25T20:49:24.455947Z",
     "iopub.status.idle": "2025-02-25T20:49:24.462074Z",
     "shell.execute_reply": "2025-02-25T20:49:24.461044Z"
    },
    "papermill": {
     "duration": 0.014182,
     "end_time": "2025-02-25T20:49:24.463698",
     "exception": false,
     "start_time": "2025-02-25T20:49:24.449516",
     "status": "completed"
    },
    "tags": []
   },
   "outputs": [
    {
     "name": "stdout",
     "output_type": "stream",
     "text": [
      "1\n",
      "1\n",
      "-3\n",
      "-2\n"
     ]
    }
   ],
   "source": [
    "# Uncomment and run this code to get started!\n",
    "print(int(1.2321))\n",
    "print(int(1.747))\n",
    "print(int(-3.94535))\n",
    "print(int(-2.19774))"
   ]
  },
  {
   "cell_type": "markdown",
   "id": "46079143",
   "metadata": {
    "papermill": {
     "duration": 0.005384,
     "end_time": "2025-02-25T20:49:24.474546",
     "exception": false,
     "start_time": "2025-02-25T20:49:24.469162",
     "status": "completed"
    },
    "tags": []
   },
   "source": [
    "Once you have an answer, run the code cell below to see the solution.  Viewing the solution will give you credit for answering the problem."
   ]
  },
  {
   "cell_type": "code",
   "execution_count": 4,
   "id": "714679c4",
   "metadata": {
    "execution": {
     "iopub.execute_input": "2025-02-25T20:49:24.486598Z",
     "iopub.status.busy": "2025-02-25T20:49:24.486186Z",
     "iopub.status.idle": "2025-02-25T20:49:24.494771Z",
     "shell.execute_reply": "2025-02-25T20:49:24.493709Z"
    },
    "papermill": {
     "duration": 0.016808,
     "end_time": "2025-02-25T20:49:24.496680",
     "exception": false,
     "start_time": "2025-02-25T20:49:24.479872",
     "status": "completed"
    },
    "tags": []
   },
   "outputs": [
    {
     "data": {
      "application/javascript": [
       "parent.postMessage({\"jupyterEvent\": \"custom.exercise_interaction\", \"data\": {\"outcomeType\": 1, \"valueTowardsCompletion\": 0.2, \"interactionType\": 1, \"questionType\": 4, \"questionId\": \"1_FloatToInt\", \"learnToolsVersion\": \"0.3.4\", \"failureMessage\": \"\", \"exceptionClass\": \"\", \"trace\": \"\"}}, \"*\")"
      ],
      "text/plain": [
       "<IPython.core.display.Javascript object>"
      ]
     },
     "metadata": {},
     "output_type": "display_data"
    },
    {
     "data": {
      "text/markdown": [
       "<span style=\"color:#33cc33\">Correct:</span> \n",
       "\n",
       "Negative floats are always rounded UP to the closest integer (for instance, both -1.1 and -1.9 are rounded up to -1). Positive floats are always rounded DOWN to the closest integer (for instance, 2.1 and 2.9 are rounded down to 2)."
      ],
      "text/plain": [
       "Correct: \n",
       "\n",
       "Negative floats are always rounded UP to the closest integer (for instance, both -1.1 and -1.9 are rounded up to -1). Positive floats are always rounded DOWN to the closest integer (for instance, 2.1 and 2.9 are rounded down to 2)."
      ]
     },
     "metadata": {},
     "output_type": "display_data"
    }
   ],
   "source": [
    "# Check your answer (Run this code cell to receive credit!)\n",
    "q1.check()"
   ]
  },
  {
   "cell_type": "markdown",
   "id": "45190df7",
   "metadata": {
    "papermill": {
     "duration": 0.005328,
     "end_time": "2025-02-25T20:49:24.507932",
     "exception": false,
     "start_time": "2025-02-25T20:49:24.502604",
     "status": "completed"
    },
    "tags": []
   },
   "source": [
    "# Question 2\n",
    "\n",
    "In the tutorial, you learned about booleans (which can take a value of `True` or `False`), in addition to integers, floats, and strings.  For this question, your goal is to determine what happens when you multiply a boolean by any of these data types.  Specifically, \n",
    "- What happens when you multiply an integer or float by `True`?  What happens when you multiply them by `False`?  How does the answer change if the numbers are positive or negative?\n",
    "- What happens when you multiply a string by `True`?  By `False`?\n",
    "\n",
    "Use the next code cell for your investigation. "
   ]
  },
  {
   "cell_type": "code",
   "execution_count": 5,
   "id": "f619205c",
   "metadata": {
    "execution": {
     "iopub.execute_input": "2025-02-25T20:49:24.520597Z",
     "iopub.status.busy": "2025-02-25T20:49:24.520159Z",
     "iopub.status.idle": "2025-02-25T20:49:24.527263Z",
     "shell.execute_reply": "2025-02-25T20:49:24.525836Z"
    },
    "papermill": {
     "duration": 0.015641,
     "end_time": "2025-02-25T20:49:24.529281",
     "exception": false,
     "start_time": "2025-02-25T20:49:24.513640",
     "status": "completed"
    },
    "tags": []
   },
   "outputs": [
    {
     "name": "stdout",
     "output_type": "stream",
     "text": [
      "3\n",
      "-3.1\n",
      "<class 'str'>\n",
      "0\n"
     ]
    }
   ],
   "source": [
    "# Uncomment and run this code to get started!\n",
    "print(3 * True)\n",
    "print(-3.1 * True)\n",
    "print(type(\"abc\" * False))\n",
    "print(len(\"abc\" * False))"
   ]
  },
  {
   "cell_type": "markdown",
   "id": "d6841206",
   "metadata": {
    "papermill": {
     "duration": 0.005399,
     "end_time": "2025-02-25T20:49:24.541060",
     "exception": false,
     "start_time": "2025-02-25T20:49:24.535661",
     "status": "completed"
    },
    "tags": []
   },
   "source": [
    "Once you have an answer, run the code cell below to see the solution.  Viewing the solution will give you credit for answering the problem."
   ]
  },
  {
   "cell_type": "code",
   "execution_count": 6,
   "id": "c2c985a9",
   "metadata": {
    "execution": {
     "iopub.execute_input": "2025-02-25T20:49:24.553977Z",
     "iopub.status.busy": "2025-02-25T20:49:24.553643Z",
     "iopub.status.idle": "2025-02-25T20:49:24.561024Z",
     "shell.execute_reply": "2025-02-25T20:49:24.559908Z"
    },
    "papermill": {
     "duration": 0.0159,
     "end_time": "2025-02-25T20:49:24.562686",
     "exception": false,
     "start_time": "2025-02-25T20:49:24.546786",
     "status": "completed"
    },
    "tags": []
   },
   "outputs": [
    {
     "data": {
      "application/javascript": [
       "parent.postMessage({\"jupyterEvent\": \"custom.exercise_interaction\", \"data\": {\"outcomeType\": 1, \"valueTowardsCompletion\": 0.2, \"interactionType\": 1, \"questionType\": 4, \"questionId\": \"2_MultiplyBooleans\", \"learnToolsVersion\": \"0.3.4\", \"failureMessage\": \"\", \"exceptionClass\": \"\", \"trace\": \"\"}}, \"*\")"
      ],
      "text/plain": [
       "<IPython.core.display.Javascript object>"
      ]
     },
     "metadata": {},
     "output_type": "display_data"
    },
    {
     "data": {
      "text/markdown": [
       "<span style=\"color:#33cc33\">Correct:</span> \n",
       "\n",
       "When you multiple an integer or float by a boolean with value `True`, it just returns that same integer or float (and is equivalent to multiplying by 1).  If you multiply an integer or float by a boolean with value `False`, it always returns 0.  This is true for both positive and negative numbers.  If you multiply a string by a boolean with value `True`, it just returns that same string.  And if you multiply a string by a boolean with value `False`, it returns an empty string (or a string with length zero)."
      ],
      "text/plain": [
       "Correct: \n",
       "\n",
       "When you multiple an integer or float by a boolean with value `True`, it just returns that same integer or float (and is equivalent to multiplying by 1).  If you multiply an integer or float by a boolean with value `False`, it always returns 0.  This is true for both positive and negative numbers.  If you multiply a string by a boolean with value `True`, it just returns that same string.  And if you multiply a string by a boolean with value `False`, it returns an empty string (or a string with length zero)."
      ]
     },
     "metadata": {},
     "output_type": "display_data"
    }
   ],
   "source": [
    "# Check your answer (Run this code cell to receive credit!)\n",
    "q2.check()"
   ]
  },
  {
   "cell_type": "markdown",
   "id": "9425168b",
   "metadata": {
    "papermill": {
     "duration": 0.005711,
     "end_time": "2025-02-25T20:49:24.574705",
     "exception": false,
     "start_time": "2025-02-25T20:49:24.568994",
     "status": "completed"
    },
    "tags": []
   },
   "source": [
    "# Question 3\n",
    "\n",
    "In this question, you will build off your work from the previous exercise to write a function that estimates the value of a house.\n",
    "\n",
    "Use the next code cell to create a function `get_expected_cost` that takes as input three variables:\n",
    "- `beds` - number of bedrooms (data type float)\n",
    "- `baths` - number of bathrooms (data type float)\n",
    "- `has_basement` - whether or not the house has a basement (data type boolean)\n",
    "\n",
    "It should return the expected cost of a house with those characteristics. Assume that:\n",
    "- the expected cost for a house with 0 bedrooms and 0 bathrooms, and no basement is 80000, \n",
    "- each bedroom adds 30000 to the expected cost,\n",
    "- each bathroom adds 10000 to the expected cost, and\n",
    "- a basement adds 40000 to the expected cost.\n",
    "\n",
    "For instance,\n",
    "- a house with 1 bedroom, 1 bathroom, and no basement has an expected cost of 80000 + 30000 + 10000 = 120000.  This value will be calculated with `get_expected_cost(1, 1, False)`.\n",
    "- a house with 2 bedrooms, 1 bathroom, and a basement has an expected cost of 80000 + 2*30000 + 10000 + 40000 = 190000.  This value will be calculated with `get_expected_cost(2, 1, True)`.\n",
    "\n",
    "Remember you can always get a hint by uncommenting `q3.hint()` in the code cell following the next!"
   ]
  },
  {
   "cell_type": "code",
   "execution_count": 7,
   "id": "1132670d",
   "metadata": {
    "execution": {
     "iopub.execute_input": "2025-02-25T20:49:24.587755Z",
     "iopub.status.busy": "2025-02-25T20:49:24.587380Z",
     "iopub.status.idle": "2025-02-25T20:49:24.595439Z",
     "shell.execute_reply": "2025-02-25T20:49:24.594387Z"
    },
    "papermill": {
     "duration": 0.016614,
     "end_time": "2025-02-25T20:49:24.597231",
     "exception": false,
     "start_time": "2025-02-25T20:49:24.580617",
     "status": "completed"
    },
    "tags": []
   },
   "outputs": [
    {
     "data": {
      "application/javascript": [
       "parent.postMessage({\"jupyterEvent\": \"custom.exercise_interaction\", \"data\": {\"outcomeType\": 1, \"valueTowardsCompletion\": 0.2, \"interactionType\": 1, \"questionType\": 2, \"questionId\": \"3_EstimateHouseValueBool\", \"learnToolsVersion\": \"0.3.4\", \"failureMessage\": \"\", \"exceptionClass\": \"\", \"trace\": \"\"}}, \"*\")"
      ],
      "text/plain": [
       "<IPython.core.display.Javascript object>"
      ]
     },
     "metadata": {},
     "output_type": "display_data"
    },
    {
     "data": {
      "text/markdown": [
       "<span style=\"color:#33cc33\">Correct</span>"
      ],
      "text/plain": [
       "Correct"
      ]
     },
     "metadata": {},
     "output_type": "display_data"
    }
   ],
   "source": [
    "# TODO: Complete the function\n",
    "def get_expected_cost(beds, baths, has_basement):\n",
    "    value =  80000 + 30000 * beds + 10000 * baths + 40000 * has_basement\n",
    "    return value\n",
    "\n",
    "# Check your answer \n",
    "q3.check()"
   ]
  },
  {
   "cell_type": "code",
   "execution_count": 8,
   "id": "4b23dfca",
   "metadata": {
    "execution": {
     "iopub.execute_input": "2025-02-25T20:49:24.610945Z",
     "iopub.status.busy": "2025-02-25T20:49:24.610616Z",
     "iopub.status.idle": "2025-02-25T20:49:24.614588Z",
     "shell.execute_reply": "2025-02-25T20:49:24.613531Z"
    },
    "papermill": {
     "duration": 0.012874,
     "end_time": "2025-02-25T20:49:24.616389",
     "exception": false,
     "start_time": "2025-02-25T20:49:24.603515",
     "status": "completed"
    },
    "tags": []
   },
   "outputs": [],
   "source": [
    "# Uncomment to see a hint\n",
    "#q3.hint()\n",
    "\n",
    "# Uncomment to view the solution\n",
    "#q3.solution()"
   ]
  },
  {
   "cell_type": "markdown",
   "id": "e3103eaa",
   "metadata": {
    "papermill": {
     "duration": 0.006094,
     "end_time": "2025-02-25T20:49:24.629178",
     "exception": false,
     "start_time": "2025-02-25T20:49:24.623084",
     "status": "completed"
    },
    "tags": []
   },
   "source": [
    "# Question 4\n",
    "\n",
    "We'll continue our study of boolean arithmetic.  For this question, your task is to provide a description of what happpens when you add booleans. \n",
    "\n",
    "Use the next code cell for your investigation.  Feel free to add or remove any lines of code - use it as your workspace!"
   ]
  },
  {
   "cell_type": "code",
   "execution_count": 9,
   "id": "5cc7bf29",
   "metadata": {
    "execution": {
     "iopub.execute_input": "2025-02-25T20:49:24.642982Z",
     "iopub.status.busy": "2025-02-25T20:49:24.642648Z",
     "iopub.status.idle": "2025-02-25T20:49:24.648899Z",
     "shell.execute_reply": "2025-02-25T20:49:24.647965Z"
    },
    "papermill": {
     "duration": 0.014881,
     "end_time": "2025-02-25T20:49:24.650392",
     "exception": false,
     "start_time": "2025-02-25T20:49:24.635511",
     "status": "completed"
    },
    "tags": []
   },
   "outputs": [
    {
     "name": "stdout",
     "output_type": "stream",
     "text": [
      "0\n",
      "1\n",
      "1\n",
      "2\n",
      "3\n"
     ]
    }
   ],
   "source": [
    "print(False + False)\n",
    "print(True + False)\n",
    "print(False + True)\n",
    "print(True + True)\n",
    "print(False + True + True + True)"
   ]
  },
  {
   "cell_type": "markdown",
   "id": "54e84639",
   "metadata": {
    "papermill": {
     "duration": 0.00619,
     "end_time": "2025-02-25T20:49:24.662964",
     "exception": false,
     "start_time": "2025-02-25T20:49:24.656774",
     "status": "completed"
    },
    "tags": []
   },
   "source": [
    "Once you have an answer, run the code cell below to see the solution.  Viewing the solution will give you credit for answering the problem."
   ]
  },
  {
   "cell_type": "code",
   "execution_count": 10,
   "id": "188ccd1f",
   "metadata": {
    "execution": {
     "iopub.execute_input": "2025-02-25T20:49:24.677011Z",
     "iopub.status.busy": "2025-02-25T20:49:24.676664Z",
     "iopub.status.idle": "2025-02-25T20:49:24.684149Z",
     "shell.execute_reply": "2025-02-25T20:49:24.682945Z"
    },
    "papermill": {
     "duration": 0.016659,
     "end_time": "2025-02-25T20:49:24.685962",
     "exception": false,
     "start_time": "2025-02-25T20:49:24.669303",
     "status": "completed"
    },
    "tags": []
   },
   "outputs": [
    {
     "data": {
      "application/javascript": [
       "parent.postMessage({\"jupyterEvent\": \"custom.exercise_interaction\", \"data\": {\"outcomeType\": 1, \"valueTowardsCompletion\": 0.2, \"interactionType\": 1, \"questionType\": 4, \"questionId\": \"4_AddingBooleans\", \"learnToolsVersion\": \"0.3.4\", \"failureMessage\": \"\", \"exceptionClass\": \"\", \"trace\": \"\"}}, \"*\")"
      ],
      "text/plain": [
       "<IPython.core.display.Javascript object>"
      ]
     },
     "metadata": {},
     "output_type": "display_data"
    },
    {
     "data": {
      "text/markdown": [
       "<span style=\"color:#33cc33\">Correct:</span> \n",
       "\n",
       "When you add booleans, adding `False` is equivalent to adding 0, and adding `True` is equivalent to adding 1."
      ],
      "text/plain": [
       "Correct: \n",
       "\n",
       "When you add booleans, adding `False` is equivalent to adding 0, and adding `True` is equivalent to adding 1."
      ]
     },
     "metadata": {},
     "output_type": "display_data"
    }
   ],
   "source": [
    "# Check your answer (Run this code cell to receive credit!)\n",
    "q4.check()"
   ]
  },
  {
   "cell_type": "markdown",
   "id": "d92793db",
   "metadata": {
    "papermill": {
     "duration": 0.006148,
     "end_time": "2025-02-25T20:49:24.698563",
     "exception": false,
     "start_time": "2025-02-25T20:49:24.692415",
     "status": "completed"
    },
    "tags": []
   },
   "source": [
    "# 🌶️ Question 5\n",
    "\n",
    "You own an online shop where you sell rings with custom engravings.  You offer both gold plated and solid gold rings.\n",
    "- Gold plated rings have a base cost of \\\\$50, and you charge \\\\$7 per engraved unit.  \n",
    "- Solid gold rings have a base cost of \\\\$100, and you charge \\\\$10 per engraved unit.\n",
    "- Spaces and punctuation are counted as engraved units.\n",
    "\n",
    "Write a function `cost_of_project()` that takes two arguments:\n",
    "- `engraving` - a Python string with the text of the engraving\n",
    "- `solid_gold` - a Boolean that indicates whether the ring is solid gold\n",
    "\n",
    "It should return the cost of the project.  This question should be fairly challenging, and you may need a hint."
   ]
  },
  {
   "cell_type": "code",
   "execution_count": 11,
   "id": "d57d6aa6",
   "metadata": {
    "execution": {
     "iopub.execute_input": "2025-02-25T20:49:24.712434Z",
     "iopub.status.busy": "2025-02-25T20:49:24.711986Z",
     "iopub.status.idle": "2025-02-25T20:49:24.720593Z",
     "shell.execute_reply": "2025-02-25T20:49:24.719423Z"
    },
    "papermill": {
     "duration": 0.017745,
     "end_time": "2025-02-25T20:49:24.722612",
     "exception": false,
     "start_time": "2025-02-25T20:49:24.704867",
     "status": "completed"
    },
    "tags": []
   },
   "outputs": [
    {
     "data": {
      "application/javascript": [
       "parent.postMessage({\"jupyterEvent\": \"custom.exercise_interaction\", \"data\": {\"outcomeType\": 1, \"valueTowardsCompletion\": 0.2, \"interactionType\": 1, \"questionType\": 2, \"questionId\": \"5_CustomEngravings\", \"learnToolsVersion\": \"0.3.4\", \"failureMessage\": \"\", \"exceptionClass\": \"\", \"trace\": \"\"}}, \"*\")"
      ],
      "text/plain": [
       "<IPython.core.display.Javascript object>"
      ]
     },
     "metadata": {},
     "output_type": "display_data"
    },
    {
     "data": {
      "text/markdown": [
       "<span style=\"color:#33cc33\">Correct</span>"
      ],
      "text/plain": [
       "Correct"
      ]
     },
     "metadata": {},
     "output_type": "display_data"
    }
   ],
   "source": [
    "def cost_of_project(engraving, solid_gold):\n",
    "    cost = solid_gold * (100 + 10 * len(engraving)) + (not solid_gold) * (50 + 7 * len(engraving))\n",
    "    return cost\n",
    "\n",
    "# Check your answer\n",
    "q5.check()"
   ]
  },
  {
   "cell_type": "code",
   "execution_count": 12,
   "id": "befadfd1",
   "metadata": {
    "execution": {
     "iopub.execute_input": "2025-02-25T20:49:24.737474Z",
     "iopub.status.busy": "2025-02-25T20:49:24.737126Z",
     "iopub.status.idle": "2025-02-25T20:49:24.741005Z",
     "shell.execute_reply": "2025-02-25T20:49:24.739951Z"
    },
    "papermill": {
     "duration": 0.013023,
     "end_time": "2025-02-25T20:49:24.742710",
     "exception": false,
     "start_time": "2025-02-25T20:49:24.729687",
     "status": "completed"
    },
    "tags": []
   },
   "outputs": [],
   "source": [
    "# Uncomment to see a hint\n",
    "#q5.hint()\n",
    "\n",
    "# Uncomment to view the solution\n",
    "#q5.solution()"
   ]
  },
  {
   "cell_type": "markdown",
   "id": "34a5ea28",
   "metadata": {
    "papermill": {
     "duration": 0.006414,
     "end_time": "2025-02-25T20:49:24.756104",
     "exception": false,
     "start_time": "2025-02-25T20:49:24.749690",
     "status": "completed"
    },
    "tags": []
   },
   "source": [
    "Run the next code cell to calculate the cost of engraving `Charlie+Denver` on a solid gold ring."
   ]
  },
  {
   "cell_type": "code",
   "execution_count": 13,
   "id": "d23d1e96",
   "metadata": {
    "execution": {
     "iopub.execute_input": "2025-02-25T20:49:24.770604Z",
     "iopub.status.busy": "2025-02-25T20:49:24.770169Z",
     "iopub.status.idle": "2025-02-25T20:49:24.775990Z",
     "shell.execute_reply": "2025-02-25T20:49:24.774850Z"
    },
    "papermill": {
     "duration": 0.015137,
     "end_time": "2025-02-25T20:49:24.777826",
     "exception": false,
     "start_time": "2025-02-25T20:49:24.762689",
     "status": "completed"
    },
    "tags": []
   },
   "outputs": [
    {
     "name": "stdout",
     "output_type": "stream",
     "text": [
      "240\n"
     ]
    }
   ],
   "source": [
    "project_one = cost_of_project(\"Charlie+Denver\", True)\n",
    "print(project_one)"
   ]
  },
  {
   "cell_type": "markdown",
   "id": "921d8f00",
   "metadata": {
    "papermill": {
     "duration": 0.006313,
     "end_time": "2025-02-25T20:49:24.791218",
     "exception": false,
     "start_time": "2025-02-25T20:49:24.784905",
     "status": "completed"
    },
    "tags": []
   },
   "source": [
    "Use the next code cell to calculate the cost of engraving `08/10/2000` on a gold plated ring."
   ]
  },
  {
   "cell_type": "code",
   "execution_count": 14,
   "id": "eb1d7a38",
   "metadata": {
    "execution": {
     "iopub.execute_input": "2025-02-25T20:49:24.805954Z",
     "iopub.status.busy": "2025-02-25T20:49:24.805471Z",
     "iopub.status.idle": "2025-02-25T20:49:24.810791Z",
     "shell.execute_reply": "2025-02-25T20:49:24.809474Z"
    },
    "papermill": {
     "duration": 0.014681,
     "end_time": "2025-02-25T20:49:24.812525",
     "exception": false,
     "start_time": "2025-02-25T20:49:24.797844",
     "status": "completed"
    },
    "tags": []
   },
   "outputs": [
    {
     "name": "stdout",
     "output_type": "stream",
     "text": [
      "120\n"
     ]
    }
   ],
   "source": [
    "project_two = cost_of_project(\"08/10/2000\", False)\n",
    "print(project_two)"
   ]
  },
  {
   "cell_type": "markdown",
   "id": "b3ccfd73",
   "metadata": {
    "papermill": {
     "duration": 0.006472,
     "end_time": "2025-02-25T20:49:24.825983",
     "exception": false,
     "start_time": "2025-02-25T20:49:24.819511",
     "status": "completed"
    },
    "tags": []
   },
   "source": [
    "# Keep going\n",
    "\n",
    "Continue to the next lesson to **[learn about conditions and conditional statements](https://www.kaggle.com/alexisbcook/conditions-and-conditional-statements)**."
   ]
  },
  {
   "cell_type": "markdown",
   "id": "3bcae94e",
   "metadata": {
    "papermill": {
     "duration": 0.00641,
     "end_time": "2025-02-25T20:49:24.839107",
     "exception": false,
     "start_time": "2025-02-25T20:49:24.832697",
     "status": "completed"
    },
    "tags": []
   },
   "source": [
    "---\n",
    "\n",
    "\n",
    "\n",
    "\n",
    "*Have questions or comments? Visit the [course discussion forum](https://www.kaggle.com/learn/intro-to-programming/discussion) to chat with other learners.*"
   ]
  }
 ],
 "metadata": {
  "kaggle": {
   "accelerator": "none",
   "dataSources": [],
   "isGpuEnabled": false,
   "isInternetEnabled": false,
   "language": "python",
   "sourceType": "notebook"
  },
  "kernelspec": {
   "display_name": "Python 3",
   "language": "python",
   "name": "python3"
  },
  "language_info": {
   "codemirror_mode": {
    "name": "ipython",
    "version": 3
   },
   "file_extension": ".py",
   "mimetype": "text/x-python",
   "name": "python",
   "nbconvert_exporter": "python",
   "pygments_lexer": "ipython3",
   "version": "3.10.12"
  },
  "papermill": {
   "default_parameters": {},
   "duration": 4.910231,
   "end_time": "2025-02-25T20:49:25.465682",
   "environment_variables": {},
   "exception": null,
   "input_path": "__notebook__.ipynb",
   "output_path": "__notebook__.ipynb",
   "parameters": {},
   "start_time": "2025-02-25T20:49:20.555451",
   "version": "2.3.3"
  }
 },
 "nbformat": 4,
 "nbformat_minor": 5
}
