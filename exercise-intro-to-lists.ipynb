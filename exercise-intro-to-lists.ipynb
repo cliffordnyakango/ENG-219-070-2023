{
 "cells": [
  {
   "cell_type": "markdown",
   "id": "46450464",
   "metadata": {
    "papermill": {
     "duration": 0.005874,
     "end_time": "2025-02-25T20:59:53.138604",
     "exception": false,
     "start_time": "2025-02-25T20:59:53.132730",
     "status": "completed"
    },
    "tags": []
   },
   "source": [
    "**This notebook is an exercise in the [Intro to Programming](https://www.kaggle.com/learn/intro-to-programming) course.  You can reference the tutorial at [this link](https://www.kaggle.com/alexisbcook/intro-to-lists).**\n",
    "\n",
    "---\n"
   ]
  },
  {
   "cell_type": "markdown",
   "id": "12beece9",
   "metadata": {
    "papermill": {
     "duration": 0.00501,
     "end_time": "2025-02-25T20:59:53.149225",
     "exception": false,
     "start_time": "2025-02-25T20:59:53.144215",
     "status": "completed"
    },
    "tags": []
   },
   "source": [
    "In the tutorial, you learned how to define and modify Python lists.  In this exercise, you will use your new knowledge to solve several problems.\n",
    "\n",
    "# Set up the notebook\n",
    "\n",
    "Run the next code cell without changes to set up the notebook."
   ]
  },
  {
   "cell_type": "code",
   "execution_count": 1,
   "id": "d9a423b2",
   "metadata": {
    "execution": {
     "iopub.execute_input": "2025-02-25T20:59:53.160894Z",
     "iopub.status.busy": "2025-02-25T20:59:53.160556Z",
     "iopub.status.idle": "2025-02-25T20:59:54.148982Z",
     "shell.execute_reply": "2025-02-25T20:59:54.147532Z"
    },
    "papermill": {
     "duration": 0.996776,
     "end_time": "2025-02-25T20:59:54.151268",
     "exception": false,
     "start_time": "2025-02-25T20:59:53.154492",
     "status": "completed"
    },
    "tags": []
   },
   "outputs": [
    {
     "name": "stdout",
     "output_type": "stream",
     "text": [
      "Setup complete.\n"
     ]
    }
   ],
   "source": [
    "from learntools.core import binder\n",
    "binder.bind(globals())\n",
    "from learntools.intro_to_programming.ex5 import *\n",
    "print('Setup complete.')"
   ]
  },
  {
   "cell_type": "markdown",
   "id": "23e4be0f",
   "metadata": {
    "papermill": {
     "duration": 0.006737,
     "end_time": "2025-02-25T20:59:54.167128",
     "exception": false,
     "start_time": "2025-02-25T20:59:54.160391",
     "status": "completed"
    },
    "tags": []
   },
   "source": [
    "# Question 1\n",
    "\n",
    "You own a restaurant with five food dishes, organized in the Python list `menu` below.  One day, you decide to:\n",
    "- remove bean soup (`'bean soup'`) from the menu, and\n",
    "- add roasted beet salad (`'roasted beet salad'`) to the menu.\n",
    "\n",
    "Implement this change to the list below.  While completing this task, \n",
    "- do not change the line that creates the `menu` list.  \n",
    "- your answer should use `.remove()` and `.append()`.  "
   ]
  },
  {
   "cell_type": "code",
   "execution_count": 2,
   "id": "dec43b4c",
   "metadata": {
    "execution": {
     "iopub.execute_input": "2025-02-25T20:59:54.179306Z",
     "iopub.status.busy": "2025-02-25T20:59:54.178819Z",
     "iopub.status.idle": "2025-02-25T20:59:54.188437Z",
     "shell.execute_reply": "2025-02-25T20:59:54.187244Z"
    },
    "papermill": {
     "duration": 0.017741,
     "end_time": "2025-02-25T20:59:54.190241",
     "exception": false,
     "start_time": "2025-02-25T20:59:54.172500",
     "status": "completed"
    },
    "tags": []
   },
   "outputs": [
    {
     "data": {
      "application/javascript": [
       "parent.postMessage({\"jupyterEvent\": \"custom.exercise_interaction\", \"data\": {\"outcomeType\": 1, \"valueTowardsCompletion\": 0.2, \"interactionType\": 1, \"questionType\": 2, \"questionId\": \"1_FoodMenu\", \"learnToolsVersion\": \"0.3.4\", \"failureMessage\": \"\", \"exceptionClass\": \"\", \"trace\": \"\"}}, \"*\")"
      ],
      "text/plain": [
       "<IPython.core.display.Javascript object>"
      ]
     },
     "metadata": {},
     "output_type": "display_data"
    },
    {
     "data": {
      "text/markdown": [
       "<span style=\"color:#33cc33\">Correct</span>"
      ],
      "text/plain": [
       "Correct"
      ]
     },
     "metadata": {},
     "output_type": "display_data"
    }
   ],
   "source": [
    "# Do not change: Initial menu for your restaurant\n",
    "menu = ['stewed meat with onions', 'bean soup', 'risotto with trout and shrimp',\n",
    "       'fish soup with cream and onion', 'gyro']\n",
    "\n",
    "# TODO: remove 'bean soup', and add 'roasted beet salad' to the end of the menu\n",
    "menu.remove('bean soup')\n",
    "menu.append('roasted beet salad')\n",
    "\n",
    "# Do not change: Check your answer\n",
    "q1.check()"
   ]
  },
  {
   "cell_type": "code",
   "execution_count": 3,
   "id": "c99e0f22",
   "metadata": {
    "execution": {
     "iopub.execute_input": "2025-02-25T20:59:54.203068Z",
     "iopub.status.busy": "2025-02-25T20:59:54.202722Z",
     "iopub.status.idle": "2025-02-25T20:59:54.206502Z",
     "shell.execute_reply": "2025-02-25T20:59:54.205608Z"
    },
    "papermill": {
     "duration": 0.012045,
     "end_time": "2025-02-25T20:59:54.208075",
     "exception": false,
     "start_time": "2025-02-25T20:59:54.196030",
     "status": "completed"
    },
    "tags": []
   },
   "outputs": [],
   "source": [
    "# Uncomment to see a hint\n",
    "#q1.hint()\n",
    "\n",
    "# Uncomment to see the solution\n",
    "#q1.solution()"
   ]
  },
  {
   "cell_type": "markdown",
   "id": "e2cc27f4",
   "metadata": {
    "papermill": {
     "duration": 0.007665,
     "end_time": "2025-02-25T20:59:54.222073",
     "exception": false,
     "start_time": "2025-02-25T20:59:54.214408",
     "status": "completed"
    },
    "tags": []
   },
   "source": [
    "# Question 2\n",
    "\n",
    "The list `num_customers` contains the number of customers who came into your restaurant every day over the last month (which lasted thirty days).  Fill in values for each of the following:\n",
    "- `avg_first_seven` - average number of customers who visited in the first seven days\n",
    "- `avg_last_seven` - average number of customers who visited in the last seven days\n",
    "- `max_month` - number of customers on the day that got the most customers in the last month\n",
    "- `min_month` - number of customers on the day that got the least customers in the last month\n",
    "\n",
    "Answer this question by writing code.  For instance, if you have to find the minimum value in a list, use `min()` instead of scanning for the smallest value and directly filling in a number."
   ]
  },
  {
   "cell_type": "code",
   "execution_count": 4,
   "id": "f59a99bc",
   "metadata": {
    "execution": {
     "iopub.execute_input": "2025-02-25T20:59:54.237479Z",
     "iopub.status.busy": "2025-02-25T20:59:54.236979Z",
     "iopub.status.idle": "2025-02-25T20:59:54.248516Z",
     "shell.execute_reply": "2025-02-25T20:59:54.247663Z"
    },
    "papermill": {
     "duration": 0.021087,
     "end_time": "2025-02-25T20:59:54.250460",
     "exception": false,
     "start_time": "2025-02-25T20:59:54.229373",
     "status": "completed"
    },
    "tags": []
   },
   "outputs": [
    {
     "data": {
      "application/javascript": [
       "parent.postMessage({\"jupyterEvent\": \"custom.exercise_interaction\", \"data\": {\"outcomeType\": 1, \"valueTowardsCompletion\": 0.2, \"interactionType\": 1, \"questionType\": 1, \"questionId\": \"2_NumCustomers\", \"learnToolsVersion\": \"0.3.4\", \"failureMessage\": \"\", \"exceptionClass\": \"\", \"trace\": \"\"}}, \"*\")"
      ],
      "text/plain": [
       "<IPython.core.display.Javascript object>"
      ]
     },
     "metadata": {},
     "output_type": "display_data"
    },
    {
     "data": {
      "text/markdown": [
       "<span style=\"color:#33cc33\">Correct</span>"
      ],
      "text/plain": [
       "Correct"
      ]
     },
     "metadata": {},
     "output_type": "display_data"
    }
   ],
   "source": [
    "# Do not change: Number of customers each day for the last month\n",
    "num_customers = [137, 147, 135, 128, 170, 174, 165, 146, 126, 159,\n",
    "                 141, 148, 132, 147, 168, 153, 170, 161, 148, 152,\n",
    "                 141, 151, 131, 149, 164, 163, 143, 143, 166, 171]\n",
    "\n",
    "# TODO: Fill in values for the variables below\n",
    "avg_first_seven = sum(num_customers[:7])/7 \n",
    "avg_last_seven = sum(num_customers[-7:])/7\n",
    "max_month = max(num_customers)\n",
    "min_month = min(num_customers)\n",
    "# Do not change: Check your answer\n",
    "q2.check()"
   ]
  },
  {
   "cell_type": "code",
   "execution_count": 5,
   "id": "06b01325",
   "metadata": {
    "execution": {
     "iopub.execute_input": "2025-02-25T20:59:54.268309Z",
     "iopub.status.busy": "2025-02-25T20:59:54.267877Z",
     "iopub.status.idle": "2025-02-25T20:59:54.272662Z",
     "shell.execute_reply": "2025-02-25T20:59:54.271489Z"
    },
    "papermill": {
     "duration": 0.017121,
     "end_time": "2025-02-25T20:59:54.274654",
     "exception": false,
     "start_time": "2025-02-25T20:59:54.257533",
     "status": "completed"
    },
    "tags": []
   },
   "outputs": [],
   "source": [
    "# Uncomment to see a hint\n",
    "#q2.hint()\n",
    "\n",
    "# Uncomment to see the solution\n",
    "#q2.solution()"
   ]
  },
  {
   "cell_type": "markdown",
   "id": "ffd3085e",
   "metadata": {
    "papermill": {
     "duration": 0.010211,
     "end_time": "2025-02-25T20:59:54.295431",
     "exception": false,
     "start_time": "2025-02-25T20:59:54.285220",
     "status": "completed"
    },
    "tags": []
   },
   "source": [
    "# Question 3\n",
    "\n",
    "In the tutorial, we gave an example of a Python string with information that was better as a list."
   ]
  },
  {
   "cell_type": "code",
   "execution_count": 6,
   "id": "15301ed9",
   "metadata": {
    "execution": {
     "iopub.execute_input": "2025-02-25T20:59:54.309857Z",
     "iopub.status.busy": "2025-02-25T20:59:54.309413Z",
     "iopub.status.idle": "2025-02-25T20:59:54.314186Z",
     "shell.execute_reply": "2025-02-25T20:59:54.313070Z"
    },
    "papermill": {
     "duration": 0.013593,
     "end_time": "2025-02-25T20:59:54.316052",
     "exception": false,
     "start_time": "2025-02-25T20:59:54.302459",
     "status": "completed"
    },
    "tags": []
   },
   "outputs": [],
   "source": [
    "flowers = \"pink primrose,hard-leaved pocket orchid,canterbury bells,sweet pea,english marigold,tiger lily,moon orchid,bird of paradise,monkshood,globe thistle\""
   ]
  },
  {
   "cell_type": "markdown",
   "id": "75c26ddb",
   "metadata": {
    "papermill": {
     "duration": 0.00565,
     "end_time": "2025-02-25T20:59:54.327686",
     "exception": false,
     "start_time": "2025-02-25T20:59:54.322036",
     "status": "completed"
    },
    "tags": []
   },
   "source": [
    "You can actually use Python to quickly turn this string into a list with `.split()`.  In the parentheses, we need to provide the character should be used to mark the end of one list item and the beginning of another, and enclose it in quotation marks.  In this case, that character is a comma."
   ]
  },
  {
   "cell_type": "code",
   "execution_count": 7,
   "id": "714998a6",
   "metadata": {
    "execution": {
     "iopub.execute_input": "2025-02-25T20:59:54.340670Z",
     "iopub.status.busy": "2025-02-25T20:59:54.340206Z",
     "iopub.status.idle": "2025-02-25T20:59:54.346013Z",
     "shell.execute_reply": "2025-02-25T20:59:54.344832Z"
    },
    "papermill": {
     "duration": 0.01451,
     "end_time": "2025-02-25T20:59:54.348000",
     "exception": false,
     "start_time": "2025-02-25T20:59:54.333490",
     "status": "completed"
    },
    "tags": []
   },
   "outputs": [
    {
     "name": "stdout",
     "output_type": "stream",
     "text": [
      "['pink primrose', 'hard-leaved pocket orchid', 'canterbury bells', 'sweet pea', 'english marigold', 'tiger lily', 'moon orchid', 'bird of paradise', 'monkshood', 'globe thistle']\n"
     ]
    }
   ],
   "source": [
    " print(flowers.split(\",\"))"
   ]
  },
  {
   "cell_type": "markdown",
   "id": "eda98e71",
   "metadata": {
    "papermill": {
     "duration": 0.006357,
     "end_time": "2025-02-25T20:59:54.365120",
     "exception": false,
     "start_time": "2025-02-25T20:59:54.358763",
     "status": "completed"
    },
    "tags": []
   },
   "source": [
    "Now it is your turn to try this out!  Create two Python lists:\n",
    "- `letters` should be a Python list where each entry is an uppercase letter of the English alphabet.  For instance, the first two entries should be `\"A\"` and `\"B\"`, and the final two entries should be `\"Y\"` and `\"Z\"`.  Use the string `alphabet` to create this list.\n",
    "- `address` should be a Python list where each row in `address` is a different item in the list.  Currently, each row in `address` is separated by a comma. "
   ]
  },
  {
   "cell_type": "code",
   "execution_count": 8,
   "id": "9e82ac2a",
   "metadata": {
    "execution": {
     "iopub.execute_input": "2025-02-25T20:59:54.378192Z",
     "iopub.status.busy": "2025-02-25T20:59:54.377748Z",
     "iopub.status.idle": "2025-02-25T20:59:54.386803Z",
     "shell.execute_reply": "2025-02-25T20:59:54.385793Z"
    },
    "papermill": {
     "duration": 0.01749,
     "end_time": "2025-02-25T20:59:54.388458",
     "exception": false,
     "start_time": "2025-02-25T20:59:54.370968",
     "status": "completed"
    },
    "tags": []
   },
   "outputs": [
    {
     "data": {
      "application/javascript": [
       "parent.postMessage({\"jupyterEvent\": \"custom.exercise_interaction\", \"data\": {\"outcomeType\": 1, \"valueTowardsCompletion\": 0.2, \"interactionType\": 1, \"questionType\": 1, \"questionId\": \"3_SplitString\", \"learnToolsVersion\": \"0.3.4\", \"failureMessage\": \"\", \"exceptionClass\": \"\", \"trace\": \"\"}}, \"*\")"
      ],
      "text/plain": [
       "<IPython.core.display.Javascript object>"
      ]
     },
     "metadata": {},
     "output_type": "display_data"
    },
    {
     "data": {
      "text/markdown": [
       "<span style=\"color:#33cc33\">Correct</span>"
      ],
      "text/plain": [
       "Correct"
      ]
     },
     "metadata": {},
     "output_type": "display_data"
    }
   ],
   "source": [
    "# DO not change: Define two Python strings\n",
    "alphabet = \"A.B.C.D.E.F.G.H.I.J.K.L.M.N.O.P.Q.R.S.T.U.V.W.X.Y.Z\"\n",
    "address = \"Mr. H. Potter,The cupboard under the Stairs,4 Privet Drive,Little Whinging,Surrey\"\n",
    "\n",
    "# TODO: Convert strings into Python lists\n",
    "letters = alphabet.split(\".\")\n",
    "formatted_address = address.split(\",\")\n",
    "\n",
    "# Do not change: Check your answer\n",
    "q3.check()"
   ]
  },
  {
   "cell_type": "code",
   "execution_count": 9,
   "id": "6771a6a2",
   "metadata": {
    "execution": {
     "iopub.execute_input": "2025-02-25T20:59:54.401940Z",
     "iopub.status.busy": "2025-02-25T20:59:54.401588Z",
     "iopub.status.idle": "2025-02-25T20:59:54.405552Z",
     "shell.execute_reply": "2025-02-25T20:59:54.404372Z"
    },
    "papermill": {
     "duration": 0.012796,
     "end_time": "2025-02-25T20:59:54.407443",
     "exception": false,
     "start_time": "2025-02-25T20:59:54.394647",
     "status": "completed"
    },
    "tags": []
   },
   "outputs": [],
   "source": [
    "# Uncomment to see a hint\n",
    "#q3.hint()\n",
    "\n",
    "# Uncomment to see the solution\n",
    "#q3.solution()"
   ]
  },
  {
   "cell_type": "markdown",
   "id": "ba716355",
   "metadata": {
    "papermill": {
     "duration": 0.005724,
     "end_time": "2025-02-25T20:59:54.419476",
     "exception": false,
     "start_time": "2025-02-25T20:59:54.413752",
     "status": "completed"
    },
    "tags": []
   },
   "source": [
    "# Question 4\n",
    "\n",
    "In the Python course, you'll learn all about **list comprehensions**, which allow you to create a list based on the values in another list.  In this question, you'll get a brief preview of how they work.\n",
    "\n",
    "Say we're working with the list below."
   ]
  },
  {
   "cell_type": "code",
   "execution_count": 10,
   "id": "7ebf073a",
   "metadata": {
    "execution": {
     "iopub.execute_input": "2025-02-25T20:59:54.433285Z",
     "iopub.status.busy": "2025-02-25T20:59:54.432912Z",
     "iopub.status.idle": "2025-02-25T20:59:54.437141Z",
     "shell.execute_reply": "2025-02-25T20:59:54.436091Z"
    },
    "papermill": {
     "duration": 0.013594,
     "end_time": "2025-02-25T20:59:54.439158",
     "exception": false,
     "start_time": "2025-02-25T20:59:54.425564",
     "status": "completed"
    },
    "tags": []
   },
   "outputs": [],
   "source": [
    "test_ratings = [1, 2, 3, 4, 5]"
   ]
  },
  {
   "cell_type": "markdown",
   "id": "6939deb5",
   "metadata": {
    "papermill": {
     "duration": 0.005963,
     "end_time": "2025-02-25T20:59:54.451777",
     "exception": false,
     "start_time": "2025-02-25T20:59:54.445814",
     "status": "completed"
    },
    "tags": []
   },
   "source": [
    "Then we can use this list (`test_ratings`) to create a new list (`test_liked`) where each item has been turned into a boolean, depending on whether or not the item is greater than or equal to four."
   ]
  },
  {
   "cell_type": "code",
   "execution_count": 11,
   "id": "0d5d9f41",
   "metadata": {
    "execution": {
     "iopub.execute_input": "2025-02-25T20:59:54.465699Z",
     "iopub.status.busy": "2025-02-25T20:59:54.465275Z",
     "iopub.status.idle": "2025-02-25T20:59:54.470131Z",
     "shell.execute_reply": "2025-02-25T20:59:54.469073Z"
    },
    "papermill": {
     "duration": 0.01399,
     "end_time": "2025-02-25T20:59:54.471988",
     "exception": false,
     "start_time": "2025-02-25T20:59:54.457998",
     "status": "completed"
    },
    "tags": []
   },
   "outputs": [
    {
     "name": "stdout",
     "output_type": "stream",
     "text": [
      "[False, False, False, True, True]\n"
     ]
    }
   ],
   "source": [
    "test_liked = [i>=4 for i in test_ratings]\n",
    "print(test_liked)"
   ]
  },
  {
   "cell_type": "markdown",
   "id": "554af9c7",
   "metadata": {
    "papermill": {
     "duration": 0.010731,
     "end_time": "2025-02-25T20:59:54.494044",
     "exception": false,
     "start_time": "2025-02-25T20:59:54.483313",
     "status": "completed"
    },
    "tags": []
   },
   "source": [
    "In this question, you'll use this list comprehension to define a function `percentage_liked()` that takes one argument as input:\n",
    "- `ratings`: list of ratings that people gave to a movie, where each rating is a number between 1-5, inclusive\n",
    "\n",
    "We say someone liked the movie, if they gave a rating of either 4 or 5.  Your function should return the percentage of people who liked the movie.\n",
    "\n",
    "For instance, if we supply a value of `[1, 2, 3, 4, 5, 4, 5, 1]`, then 50% (4/8) of the people liked the movie, and the function should return `0.5`.\n",
    "\n",
    "Part of the function has already been completed for you.  You need only use `list_liked` to calculate `percentage_liked`."
   ]
  },
  {
   "cell_type": "code",
   "execution_count": 12,
   "id": "03648728",
   "metadata": {
    "execution": {
     "iopub.execute_input": "2025-02-25T20:59:54.510058Z",
     "iopub.status.busy": "2025-02-25T20:59:54.509574Z",
     "iopub.status.idle": "2025-02-25T20:59:54.519922Z",
     "shell.execute_reply": "2025-02-25T20:59:54.518873Z"
    },
    "papermill": {
     "duration": 0.019743,
     "end_time": "2025-02-25T20:59:54.521925",
     "exception": false,
     "start_time": "2025-02-25T20:59:54.502182",
     "status": "completed"
    },
    "tags": []
   },
   "outputs": [
    {
     "data": {
      "application/javascript": [
       "parent.postMessage({\"jupyterEvent\": \"custom.exercise_interaction\", \"data\": {\"outcomeType\": 1, \"valueTowardsCompletion\": 0.2, \"interactionType\": 1, \"questionType\": 2, \"questionId\": \"4_PercentageLiked\", \"learnToolsVersion\": \"0.3.4\", \"failureMessage\": \"\", \"exceptionClass\": \"\", \"trace\": \"\"}}, \"*\")"
      ],
      "text/plain": [
       "<IPython.core.display.Javascript object>"
      ]
     },
     "metadata": {},
     "output_type": "display_data"
    },
    {
     "data": {
      "text/markdown": [
       "<span style=\"color:#33cc33\">Correct</span>"
      ],
      "text/plain": [
       "Correct"
      ]
     },
     "metadata": {},
     "output_type": "display_data"
    }
   ],
   "source": [
    "\n",
    "def percentage_liked(ratings):\n",
    "    list_liked = [i>=4 for i in ratings]\n",
    "    # TODO: Complete the function\n",
    "    percentage_liked =  list_liked = [i >= 4 for i in ratings]\n",
    "    percentage_liked = sum(list_liked)/len(list_liked)\n",
    "  \n",
    "    return percentage_liked\n",
    "\n",
    "# Do not change: should return 0.5\n",
    "percentage_liked([1, 2, 3, 4, 5, 4, 5, 1])\n",
    "\n",
    "# Do not change: Check your answer\n",
    "q4.check()"
   ]
  },
  {
   "cell_type": "code",
   "execution_count": 13,
   "id": "2f6ab357",
   "metadata": {
    "execution": {
     "iopub.execute_input": "2025-02-25T20:59:54.539991Z",
     "iopub.status.busy": "2025-02-25T20:59:54.539553Z",
     "iopub.status.idle": "2025-02-25T20:59:54.543885Z",
     "shell.execute_reply": "2025-02-25T20:59:54.542787Z"
    },
    "papermill": {
     "duration": 0.01328,
     "end_time": "2025-02-25T20:59:54.545531",
     "exception": false,
     "start_time": "2025-02-25T20:59:54.532251",
     "status": "completed"
    },
    "tags": []
   },
   "outputs": [],
   "source": [
    "# Uncomment to see a hint\n",
    "#q4.hint()\n",
    "\n",
    "# Uncomment to see the solution\n",
    "#q4.solution()"
   ]
  },
  {
   "cell_type": "markdown",
   "id": "79c5f31b",
   "metadata": {
    "papermill": {
     "duration": 0.006119,
     "end_time": "2025-02-25T20:59:54.558160",
     "exception": false,
     "start_time": "2025-02-25T20:59:54.552041",
     "status": "completed"
    },
    "tags": []
   },
   "source": [
    "# 🌶️ Question 5\n",
    " \n",
    "Say you're doing analytics for a website.  You need to write a function that returns the percentage growth in the total number of users relative to a specified number of years ago.\n",
    "\n",
    "Your function `percentage_growth()` should take two arguments as input:\n",
    "- `num_users` = Python list with the total number of users each year.  So `num_users[0]` is the total number of users in the first year, `num_users[1]` is the total number of users in the second year, and so on.  The final entry in the list gives the total number of users in the most recently completed year.\n",
    "- `yrs_ago` = number of years to go back in time when calculating the growth percentage\n",
    "\n",
    "For instance, say `num_users = [920344, 1043553, 1204334, 1458996, 1503323, 1593432, 1623463, 1843064, 1930992, 2001078]`.\n",
    "- if `yrs_ago = 1`, we want the function to return a value of about `0.036`. This corresponds to a percentage growth of approximately 3.6%, calculated as (2001078 - 1930992)/1930992.\n",
    "- if `years_ago = 7`, we would want to return approximately `0.66`.  This corresponds to a percentage growth of approximately 66%, calculated as (2001078 - 1204334)/1204334.\n",
    "\n",
    "Your coworker sent you a draft of a function, but it doesn't seem to be doing the correct calculation.  Can you figure out what has gone wrong and make the needed changes?"
   ]
  },
  {
   "cell_type": "code",
   "execution_count": 14,
   "id": "96c5f15b",
   "metadata": {
    "execution": {
     "iopub.execute_input": "2025-02-25T20:59:54.572131Z",
     "iopub.status.busy": "2025-02-25T20:59:54.571681Z",
     "iopub.status.idle": "2025-02-25T20:59:54.580209Z",
     "shell.execute_reply": "2025-02-25T20:59:54.579135Z"
    },
    "papermill": {
     "duration": 0.017549,
     "end_time": "2025-02-25T20:59:54.581956",
     "exception": false,
     "start_time": "2025-02-25T20:59:54.564407",
     "status": "completed"
    },
    "tags": []
   },
   "outputs": [
    {
     "name": "stdout",
     "output_type": "stream",
     "text": [
      "None\n",
      "None\n"
     ]
    }
   ],
   "source": [
    "# TODO: Edit the function\n",
    "def percentage_growth(num_users, yrs_ago):\n",
    "    growth = (num_users[len(num_users)-1] - num_users[len(num_users)-yrs_ago-1])/num_users[len(num_users)-yrs_ago-1]    \n",
    "# Do not change: Variable for calculating some test examples\n",
    "num_users_test = [920344, 1043553, 1204334, 1458996, 1503323, 1593432, 1623463, 1843064, 1930992, 2001078]\n",
    "\n",
    "# Do not change: Should return .036\n",
    "print(percentage_growth(num_users_test, 1))\n",
    "\n",
    "# Do not change: Should return 0.66\n",
    "print(percentage_growth(num_users_test, 7))\n",
    "\n",
    "# Do not change: Check your answer\n",
    "\n",
    "\n"
   ]
  },
  {
   "cell_type": "code",
   "execution_count": 15,
   "id": "337209e7",
   "metadata": {
    "execution": {
     "iopub.execute_input": "2025-02-25T20:59:54.596452Z",
     "iopub.status.busy": "2025-02-25T20:59:54.595954Z",
     "iopub.status.idle": "2025-02-25T20:59:54.600696Z",
     "shell.execute_reply": "2025-02-25T20:59:54.599474Z"
    },
    "papermill": {
     "duration": 0.014366,
     "end_time": "2025-02-25T20:59:54.602666",
     "exception": false,
     "start_time": "2025-02-25T20:59:54.588300",
     "status": "completed"
    },
    "tags": []
   },
   "outputs": [],
   "source": [
    "# Uncomment to see a hint\n",
    "#q5.hint()\n",
    "\n",
    "# Uncomment to see the solution\n",
    "#q5.solution()"
   ]
  },
  {
   "cell_type": "markdown",
   "id": "fcd8ae39",
   "metadata": {
    "papermill": {
     "duration": 0.006351,
     "end_time": "2025-02-25T20:59:54.615773",
     "exception": false,
     "start_time": "2025-02-25T20:59:54.609422",
     "status": "completed"
    },
    "tags": []
   },
   "source": [
    "# Congratulations!\n",
    "\n",
    "Congratulations for finishing the Intro to Programming course!  You should be proud of your very first steps with learning programming.  As next steps, we recommend taking:\n",
    "- the **[Python course](http://www.kaggle.com/learn/python)**, and \n",
    "- the **[Intro to Machine Learning course](https://www.kaggle.com/learn/intro-to-machine-learning)**."
   ]
  },
  {
   "cell_type": "markdown",
   "id": "580f70e1",
   "metadata": {
    "papermill": {
     "duration": 0.006246,
     "end_time": "2025-02-25T20:59:54.628826",
     "exception": false,
     "start_time": "2025-02-25T20:59:54.622580",
     "status": "completed"
    },
    "tags": []
   },
   "source": [
    "---\n",
    "\n",
    "\n",
    "\n",
    "\n",
    "*Have questions or comments? Visit the [course discussion forum](https://www.kaggle.com/learn/intro-to-programming/discussion) to chat with other learners.*"
   ]
  }
 ],
 "metadata": {
  "kaggle": {
   "accelerator": "none",
   "dataSources": [],
   "isGpuEnabled": false,
   "isInternetEnabled": false,
   "language": "python",
   "sourceType": "notebook"
  },
  "kernelspec": {
   "display_name": "Python 3",
   "language": "python",
   "name": "python3"
  },
  "language_info": {
   "codemirror_mode": {
    "name": "ipython",
    "version": 3
   },
   "file_extension": ".py",
   "mimetype": "text/x-python",
   "name": "python",
   "nbconvert_exporter": "python",
   "pygments_lexer": "ipython3",
   "version": "3.10.12"
  },
  "papermill": {
   "default_parameters": {},
   "duration": 4.839098,
   "end_time": "2025-02-25T20:59:55.155481",
   "environment_variables": {},
   "exception": null,
   "input_path": "__notebook__.ipynb",
   "output_path": "__notebook__.ipynb",
   "parameters": {},
   "start_time": "2025-02-25T20:59:50.316383",
   "version": "2.6.0"
  }
 },
 "nbformat": 4,
 "nbformat_minor": 5
}
